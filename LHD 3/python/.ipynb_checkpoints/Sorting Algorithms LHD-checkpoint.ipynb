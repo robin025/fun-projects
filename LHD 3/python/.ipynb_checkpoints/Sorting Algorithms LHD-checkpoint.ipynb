{
 "cells": [
  {
   "cell_type": "code",
   "execution_count": 2,
   "metadata": {},
   "outputs": [],
   "source": [
    "# Insertion Sort\n"
   ]
  },
  {
   "cell_type": "code",
   "execution_count": 18,
   "metadata": {},
   "outputs": [],
   "source": [
    "def insertionsort(a,n):\n",
    "    for i in range(1,n):      #right unsorted sub array\n",
    "        t=a[i]\n",
    "        j=i-1\n",
    "\n",
    "        while j >= 0 and a[j] > t :     #lef sorted sub array\n",
    "            a[j+1] = a[j]\n",
    "            j-=1\n",
    "\n",
    "        a[j + 1] = t"
   ]
  },
  {
   "cell_type": "code",
   "execution_count": 19,
   "metadata": {},
   "outputs": [],
   "source": [
    "InsertArray = [10,78,9,3,1,46,97,12,0,36]\n",
    "insertionsort(InsertArray,len(InsertArray))"
   ]
  },
  {
   "cell_type": "code",
   "execution_count": 20,
   "metadata": {},
   "outputs": [
    {
     "name": "stdout",
     "output_type": "stream",
     "text": [
      "[0, 1, 3, 9, 10, 12, 36, 46, 78, 97]\n"
     ]
    }
   ],
   "source": [
    "print(InsertArray)"
   ]
  },
  {
   "cell_type": "code",
   "execution_count": 4,
   "metadata": {},
   "outputs": [],
   "source": [
    "# Selection Sort"
   ]
  },
  {
   "cell_type": "code",
   "execution_count": 5,
   "metadata": {},
   "outputs": [],
   "source": [
    "def selectionsort(a,n):\n",
    "    for i in range(0,n-1):\n",
    "        min=i\n",
    "        for j in range(i+1,n):\n",
    "            if a[j]<a[min]:\n",
    "                min=j\n",
    "        if min !=i:\n",
    "            t=a[i]\n",
    "            a[i]=a[min]\n",
    "            a[min]=t"
   ]
  },
  {
   "cell_type": "code",
   "execution_count": 21,
   "metadata": {},
   "outputs": [
    {
     "name": "stdout",
     "output_type": "stream",
     "text": [
      "[0, 0, 1, 3, 4, 6, 12, 36, 78, 89, 98]\n"
     ]
    }
   ],
   "source": [
    "SelectionSort=[89,12,0,36,78,98,1,0,3,6,4]\n",
    "selectionsort(SelectionSort,len(SelectionSort))\n",
    "print(SelectionSort)"
   ]
  },
  {
   "cell_type": "code",
   "execution_count": 6,
   "metadata": {},
   "outputs": [],
   "source": [
    "# Counting Sort"
   ]
  },
  {
   "cell_type": "code",
   "execution_count": 7,
   "metadata": {},
   "outputs": [],
   "source": [
    "def counting(a,n,k,b):\n",
    "\n",
    "    c=[0]*(k+1)\n",
    "    for i in range(0,k):\n",
    "        c[i]=0\n",
    "    for j in range(0,n):\n",
    "        c[a[j]]+=1\n",
    "    for i in range(1,k+1):\n",
    "        c[i]+=c[i-1]\n",
    "    for j in range(n-1,-1,-1):\n",
    "        b[c[a[j]]-1]=a[j]\n",
    "        c[a[j]]-=1"
   ]
  },
  {
   "cell_type": "code",
   "execution_count": 25,
   "metadata": {},
   "outputs": [
    {
     "name": "stdout",
     "output_type": "stream",
     "text": [
      "[1, 4, 6, 6, 9, 11, 12, 23, 70, 89, 90]\n"
     ]
    }
   ],
   "source": [
    "CountingArray=[12,89,4,6,9,70,1,23,6,90,11]\n",
    "n=len(CountingArray)\n",
    "k=max(CountingArray)\n",
    "EmptyArray=[0]*n\n",
    "counting(CountingArray,n,k,EmptyArray)\n",
    "print(EmptyArray)"
   ]
  },
  {
   "cell_type": "code",
   "execution_count": 8,
   "metadata": {},
   "outputs": [],
   "source": [
    "# Bubble Sort"
   ]
  },
  {
   "cell_type": "code",
   "execution_count": 9,
   "metadata": {},
   "outputs": [],
   "source": [
    "def bubblesort(a,n):\n",
    "\n",
    "    for i in range(0,n-1):\n",
    "        flag =0\n",
    "\n",
    "\n",
    "        for j in range(0,n-1-i):\n",
    "            if a[j] > a[j+1]:\n",
    "                t=a[j]\n",
    "                a[j]=a[j+1]\n",
    "                a[j+1]=t\n",
    "                flag = 1\n",
    "\n",
    "        if flag == 0:\n",
    "            break\n"
   ]
  },
  {
   "cell_type": "code",
   "execution_count": 22,
   "metadata": {},
   "outputs": [
    {
     "name": "stdout",
     "output_type": "stream",
     "text": [
      "[0, 1, 3, 3, 9, 9, 12, 12, 45, 48, 78, 99]\n"
     ]
    }
   ],
   "source": [
    "BubbleSortArray=[0,12,1,3,9,12,48,78,9,3,45,99]\n",
    "bubblesort(BubbleSortArray,len(BubbleSortArray))\n",
    "print(BubbleSortArray)"
   ]
  },
  {
   "cell_type": "code",
   "execution_count": 10,
   "metadata": {},
   "outputs": [],
   "source": [
    "# Merge Sort"
   ]
  },
  {
   "cell_type": "code",
   "execution_count": 11,
   "metadata": {},
   "outputs": [],
   "source": [
    "def mergeSort(arr):\n",
    "    if len(arr) > 1:\n",
    "        m = len(arr) // 2\n",
    "        left = arr[:m]\n",
    "        right = arr[m:]\n",
    "\n",
    "        mergeSort(left)\n",
    "        mergeSort(right)\n",
    "\n",
    "        i = 0\n",
    "        j = 0\n",
    "        k = 0\n",
    "\n",
    "        while i < len(left) and j < len(right):\n",
    "            if left[i] < right[j]:\n",
    "\n",
    "                arr[k] = left[i]\n",
    "\n",
    "                i += 1\n",
    "            else:\n",
    "                arr[k] = right[j]\n",
    "                j += 1\n",
    "\n",
    "            k += 1\n",
    "\n",
    "        while i < len(left):\n",
    "            arr[k] = left[i]\n",
    "            i += 1\n",
    "            k += 1\n",
    "\n",
    "        while j < len(right):\n",
    "            arr[k] = right[j]\n",
    "            j += 1\n",
    "            k += 1"
   ]
  },
  {
   "cell_type": "code",
   "execution_count": 27,
   "metadata": {},
   "outputs": [
    {
     "name": "stdout",
     "output_type": "stream",
     "text": [
      "[1, 3, 3, 4, 6, 9, 10, 12, 12, 12, 32, 45, 65, 78]\n"
     ]
    }
   ],
   "source": [
    "MergeArray=[12,1,3,65,78,45,32,12,10,9,6,3,4,12]\n",
    "mergeSort(MergeArray)\n",
    "print(MergeArray)"
   ]
  },
  {
   "cell_type": "code",
   "execution_count": 12,
   "metadata": {},
   "outputs": [],
   "source": [
    "# Quick Sort"
   ]
  },
  {
   "cell_type": "code",
   "execution_count": 13,
   "metadata": {},
   "outputs": [],
   "source": [
    "def partition(a,lb,ub):\n",
    "    pivot = a[lb]\n",
    "    start = lb\n",
    "    end = ub\n",
    "\n",
    "    while start < end:\n",
    "        while a[start] <= pivot:\n",
    "            start+=1\n",
    "        while a[end] > pivot:\n",
    "            end-=1\n",
    "        if start < end:\n",
    "            t=a[start]\n",
    "            a[start]=a[end]\n",
    "            a[end]=t\n",
    "\n",
    "    a[lb]=a[end]\n",
    "    a[end]=pivot\n",
    "    return end\n",
    "\n",
    "def quicksort(a,lb,ub):\n",
    "    if lb < ub:\n",
    "        p= partition(a,lb,ub)\n",
    "        quicksort(a,lb,p-1)\n",
    "        quicksort(a,p+1,ub)\n"
   ]
  },
  {
   "cell_type": "code",
   "execution_count": 28,
   "metadata": {},
   "outputs": [
    {
     "name": "stdout",
     "output_type": "stream",
     "text": [
      "[0, 1, 1, 2, 10, 30, 32, 45, 56, 69, 78, 87, 89]\n"
     ]
    }
   ],
   "source": [
    "QuickArray=[30,1,2,69,78,1,56,45,89,87,32,0,10]\n",
    "quicksort(QuickArray,0,len(QuickArray)-1)\n",
    "print(QuickArray)"
   ]
  },
  {
   "cell_type": "code",
   "execution_count": 14,
   "metadata": {},
   "outputs": [],
   "source": [
    "# Shell Sort"
   ]
  },
  {
   "cell_type": "code",
   "execution_count": 15,
   "metadata": {},
   "outputs": [],
   "source": [
    "def shellsort(a,n):\n",
    "\n",
    "    g = n // 2\n",
    "    while g > 0:\n",
    "        for i in range(g, n):\n",
    "            t = a[i]\n",
    "            j = i\n",
    "            while j >= g and a[j - g] > t:\n",
    "                a[j] = a[j - g]\n",
    "                j -= g\n",
    "\n",
    "            a[j] = t\n",
    "        g =g// 2"
   ]
  },
  {
   "cell_type": "code",
   "execution_count": 29,
   "metadata": {},
   "outputs": [
    {
     "name": "stdout",
     "output_type": "stream",
     "text": [
      "[0, 1, 1, 2, 10, 30, 32, 45, 56, 69, 78, 87, 89]\n"
     ]
    }
   ],
   "source": [
    "ShellArray=[30,1,2,69,78,1,56,45,89,87,32,0,10]\n",
    "shellsort(ShellArray,len(ShellArray))\n",
    "print(ShellArray)"
   ]
  },
  {
   "cell_type": "code",
   "execution_count": 16,
   "metadata": {},
   "outputs": [],
   "source": [
    "# Heap Sort"
   ]
  },
  {
   "cell_type": "code",
   "execution_count": 31,
   "metadata": {},
   "outputs": [],
   "source": [
    "def heapify(a, n, i):\n",
    "    largest = i\n",
    "    l = 2 * i\n",
    "    r = 2 * i + 1\n",
    "\n",
    "\n",
    "    if l < n and a[i] < a[l]:\n",
    "        largest = l\n",
    "    if r < n and a[largest] < a[r]:\n",
    "        largest = r\n",
    "    if largest != i:\n",
    "        a[i], a[largest] = a[largest], a[i]\n",
    "        heapify(a, n, largest)\n",
    "\n",
    "\n",
    "\n",
    "\n",
    "def heapSort(a,n):\n",
    "\n",
    "\n",
    "\n",
    "    for i in range(n, -1, -1):\n",
    "        heapify(a, n, i)\n",
    "\n",
    "\n",
    "    for i in range(n-1 , 0, -1):\n",
    "        a[i], a[0] = a[0], a[i]\n",
    "        heapify(a, i, 0)\n"
   ]
  },
  {
   "cell_type": "code",
   "execution_count": 33,
   "metadata": {},
   "outputs": [
    {
     "name": "stdout",
     "output_type": "stream",
     "text": [
      "[0, 1, 1, 2, 10, 30, 32, 45, 56, 69, 78, 87, 89]\n"
     ]
    }
   ],
   "source": [
    "HeapArray=[30,1,2,69,78,1,56,45,89,87,32,0,10]\n",
    "heapSort(HeapArray,len(HeapArray))\n",
    "print(HeapArray)"
   ]
  },
  {
   "cell_type": "code",
   "execution_count": null,
   "metadata": {},
   "outputs": [],
   "source": []
  }
 ],
 "metadata": {
  "kernelspec": {
   "display_name": "Python 3.6.8 64-bit",
   "language": "python",
   "name": "python36864bitf3c05d16cf7847adb0bc4435eee75fb4"
  },
  "language_info": {
   "codemirror_mode": {
    "name": "ipython",
    "version": 3
   },
   "file_extension": ".py",
   "mimetype": "text/x-python",
   "name": "python",
   "nbconvert_exporter": "python",
   "pygments_lexer": "ipython3",
   "version": "3.6.8"
  }
 },
 "nbformat": 4,
 "nbformat_minor": 4
}
